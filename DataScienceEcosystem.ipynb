{
 "cells": [
  {
   "cell_type": "markdown",
   "id": "3c04f47f-b841-4db8-818d-72a7dcce4331",
   "metadata": {},
   "source": [
    "# Data Science Tools and Ecosystem"
   ]
  },
  {
   "cell_type": "markdown",
   "id": "e6936d4d-c182-4672-aaff-5932146357a9",
   "metadata": {},
   "source": [
    "In this notebook, Data Science Tools and Ecosystem are summarized."
   ]
  },
  {
   "cell_type": "markdown",
   "id": "f2560d87-ce6e-40da-b517-99790dba3c8e",
   "metadata": {},
   "source": [
    "Some of the popular languages that Data Scientists use are:\n",
    "1. Python\n",
    "2. R\n",
    "3. SQL"
   ]
  },
  {
   "cell_type": "markdown",
   "id": "73f4917b-4bc0-44b5-8a10-f59c1a7bbaf2",
   "metadata": {},
   "source": [
    "Some of the commonly used libraries used by Data Scientists include:\n",
    "1. maplotlib\n",
    "2. pandas\n",
    "3. ggplot"
   ]
  },
  {
   "cell_type": "markdown",
   "id": "525d6a12-d416-4038-8419-692a5f31c8c7",
   "metadata": {},
   "source": [
    "Data Science Tools|\n",
    ":------------------\n",
    "VS Code|\n",
    "R Studio|\n",
    "PyCharm|"
   ]
  },
  {
   "cell_type": "markdown",
   "id": "eea88c58-1fea-4612-8de2-c22ff090347e",
   "metadata": {},
   "source": [
    "### Below are a few examples of evaluating arithmetic expressions in Python"
   ]
  },
  {
   "cell_type": "code",
   "execution_count": 1,
   "id": "dd420522-1e5f-41a4-9843-1c54b3d92601",
   "metadata": {},
   "outputs": [
    {
     "data": {
      "text/plain": [
       "17"
      ]
     },
     "execution_count": 1,
     "metadata": {},
     "output_type": "execute_result"
    }
   ],
   "source": [
    "# This a simple arithmetic expression to mutiply then add integers\n",
    "(3*4)+5"
   ]
  },
  {
   "cell_type": "code",
   "execution_count": 2,
   "id": "57e08a14-0a82-472c-a800-216914656208",
   "metadata": {},
   "outputs": [
    {
     "data": {
      "text/plain": [
       "3.3333333333333335"
      ]
     },
     "execution_count": 2,
     "metadata": {},
     "output_type": "execute_result"
    }
   ],
   "source": [
    "# This will convert 200 minutes to hours by diving by 60\n",
    "200/60"
   ]
  },
  {
   "cell_type": "markdown",
   "id": "494edc02-e997-49c1-8387-6eed8fdfa494",
   "metadata": {},
   "source": [
    "__Objectives:__\n",
    "* List popular languages for Data Science\n",
    "* List commonly used libraries\n",
    "* Perform simple arithmetic functions"
   ]
  },
  {
   "cell_type": "markdown",
   "id": "0dff1565-02fe-4cdb-bec9-31610bfaaf44",
   "metadata": {},
   "source": [
    "## Author\n",
    "Lorna Mbau"
   ]
  },
  {
   "cell_type": "code",
   "execution_count": null,
   "id": "7996f72d-94ed-442e-b7da-93ff797ec394",
   "metadata": {},
   "outputs": [],
   "source": []
  }
 ],
 "metadata": {
  "kernelspec": {
   "display_name": "Python 3 (ipykernel)",
   "language": "python",
   "name": "python3"
  },
  "language_info": {
   "codemirror_mode": {
    "name": "ipython",
    "version": 3
   },
   "file_extension": ".py",
   "mimetype": "text/x-python",
   "name": "python",
   "nbconvert_exporter": "python",
   "pygments_lexer": "ipython3",
   "version": "3.12.4"
  }
 },
 "nbformat": 4,
 "nbformat_minor": 5
}
